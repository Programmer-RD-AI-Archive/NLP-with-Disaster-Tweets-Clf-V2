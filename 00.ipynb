{
 "cells": [
  {
   "cell_type": "code",
   "execution_count": 1,
   "id": "d93342cd-d649-45ab-8a28-a7e26d64b1a4",
   "metadata": {},
   "outputs": [],
   "source": [
    "import nltk\n",
    "from nltk.stem.porter import *\n",
    "from torch.nn import *\n",
    "from torch.optim import *\n",
    "import numpy as np\n",
    "import pandas as pd\n",
    "import torch,torchvision\n",
    "import random\n",
    "from tqdm import *\n",
    "from torch.utils.data import Dataset,DataLoader\n",
    "stemmer = PorterStemmer()"
   ]
  },
  {
   "cell_type": "code",
   "execution_count": 2,
   "id": "ef51cc45-34dc-4d91-9503-50c52fefb297",
   "metadata": {},
   "outputs": [],
   "source": [
    "data = pd.read_csv('./train_data_cleaning.csv')"
   ]
  },
  {
   "cell_type": "code",
   "execution_count": 3,
   "id": "07035a8e-7cda-4e01-9c4a-a6e29bebfabe",
   "metadata": {},
   "outputs": [],
   "source": [
    "def tokenize(sentence):\n",
    "    return nltk.word_tokenize(sentence)"
   ]
  },
  {
   "cell_type": "code",
   "execution_count": 4,
   "id": "b8618f84-6bee-4ce6-bf0d-12fb8c0db490",
   "metadata": {},
   "outputs": [
    {
     "data": {
      "text/plain": [
       "['test', 'what', 'why', 'how']"
      ]
     },
     "execution_count": 4,
     "metadata": {},
     "output_type": "execute_result"
    }
   ],
   "source": [
    "tokenize('test what why how')"
   ]
  },
  {
   "cell_type": "code",
   "execution_count": 5,
   "id": "2bfd1e8c-90cc-417d-b705-e2d863736fc2",
   "metadata": {},
   "outputs": [],
   "source": [
    "def stem(word):\n",
    "    return stemmer.stem(word.lower())"
   ]
  },
  {
   "cell_type": "code",
   "execution_count": 6,
   "id": "5ab5638a-e9b2-4fa2-a19e-d49d11af74f6",
   "metadata": {},
   "outputs": [
    {
     "data": {
      "text/plain": [
       "'test'"
      ]
     },
     "execution_count": 6,
     "metadata": {},
     "output_type": "execute_result"
    }
   ],
   "source": [
    "stem('test')"
   ]
  },
  {
   "cell_type": "code",
   "execution_count": 7,
   "id": "79ef53ad-6c0b-4378-9ab8-cfa77ecafb12",
   "metadata": {},
   "outputs": [],
   "source": [
    "def bag_of_words(tokenized_word,all_words):\n",
    "    tokenized_word = [stem(w) for w in tokenized_word]\n",
    "    bag = np.zeros(len(all_words),dtype=np.float32)\n",
    "    for idx,w in enumerate(all_words):\n",
    "        if w in tokenized_word:\n",
    "            bag[idx] = 1.0\n",
    "    return bag"
   ]
  },
  {
   "cell_type": "code",
   "execution_count": 8,
   "id": "f81bb254-7d1b-4358-8405-d38ab6361e09",
   "metadata": {},
   "outputs": [
    {
     "data": {
      "text/plain": [
       "array([1., 0., 1.], dtype=float32)"
      ]
     },
     "execution_count": 8,
     "metadata": {},
     "output_type": "execute_result"
    }
   ],
   "source": [
    "bag_of_words(['test','what !!!'],['test','what','what !!!'])"
   ]
  },
  {
   "cell_type": "code",
   "execution_count": 9,
   "id": "36f66d88-5b1e-424e-88ff-ad575bd19273",
   "metadata": {},
   "outputs": [],
   "source": [
    "X = data['text'].tolist()"
   ]
  },
  {
   "cell_type": "code",
   "execution_count": 10,
   "id": "281b5968-7bc7-4d42-8d76-42ef57db26ff",
   "metadata": {},
   "outputs": [],
   "source": [
    "y = data['target'].tolist()"
   ]
  },
  {
   "cell_type": "code",
   "execution_count": 11,
   "id": "2dbb8b43-e914-4fee-96c6-3e3db982e9b5",
   "metadata": {},
   "outputs": [],
   "source": [
    "all_words = []\n",
    "new_data = []"
   ]
  },
  {
   "cell_type": "code",
   "execution_count": 12,
   "id": "968f8da9-0219-4da8-937b-b095a6e02e39",
   "metadata": {},
   "outputs": [],
   "source": [
    "tags = {}"
   ]
  },
  {
   "cell_type": "code",
   "execution_count": 13,
   "id": "3ff1aae6-2e8f-43d7-951a-266ae648e9a9",
   "metadata": {},
   "outputs": [
    {
     "name": "stderr",
     "output_type": "stream",
     "text": [
      "7613it [00:02, 3160.50it/s]\n"
     ]
    }
   ],
   "source": [
    "for X_batch,y_batch in tqdm(zip(X,y)):\n",
    "    X_batch = tokenize(X_batch)\n",
    "    new_X = []\n",
    "    for X_batch_in_X_batch in X_batch:\n",
    "        new_X.append(stem(X_batch_in_X_batch))\n",
    "    all_words.extend(new_X)\n",
    "    new_data.append((new_X,y_batch))\n",
    "    if y_batch not in list(tags.keys()):\n",
    "        tags[y_batch] = 1\n",
    "    else:\n",
    "        tags[y_batch] += 1"
   ]
  },
  {
   "cell_type": "code",
   "execution_count": 14,
   "id": "2578b249-459e-490b-8663-dcbed02e5430",
   "metadata": {},
   "outputs": [
    {
     "data": {
      "text/plain": [
       "{1: 3271, 0: 4342}"
      ]
     },
     "execution_count": 14,
     "metadata": {},
     "output_type": "execute_result"
    }
   ],
   "source": [
    "tags"
   ]
  },
  {
   "cell_type": "code",
   "execution_count": 15,
   "id": "a02dd1e9-c6a0-4278-add7-b0b5d985128a",
   "metadata": {},
   "outputs": [],
   "source": [
    "tags = [0,1]"
   ]
  },
  {
   "cell_type": "code",
   "execution_count": 16,
   "id": "fc829c4a-bfb7-4782-ba56-24c7c3037f25",
   "metadata": {},
   "outputs": [],
   "source": [
    "np.random.shuffle(all_words)\n",
    "np.random.shuffle(new_data)"
   ]
  },
  {
   "cell_type": "code",
   "execution_count": 17,
   "id": "93037939-63b8-4b34-bbd5-b0842a3103bd",
   "metadata": {},
   "outputs": [
    {
     "data": {
      "text/plain": [
       "132212"
      ]
     },
     "execution_count": 17,
     "metadata": {},
     "output_type": "execute_result"
    }
   ],
   "source": [
    "len(all_words)"
   ]
  },
  {
   "cell_type": "code",
   "execution_count": 18,
   "id": "b1b2a708-895f-4eee-9ede-fd3e40ce8d10",
   "metadata": {},
   "outputs": [],
   "source": [
    "all_words = sorted(set(all_words))"
   ]
  },
  {
   "cell_type": "code",
   "execution_count": 19,
   "id": "93f44ddf-5956-4370-8c64-5d4dfae339d7",
   "metadata": {},
   "outputs": [
    {
     "data": {
      "text/plain": [
       "13928"
      ]
     },
     "execution_count": 19,
     "metadata": {},
     "output_type": "execute_result"
    }
   ],
   "source": [
    "len(all_words)"
   ]
  },
  {
   "cell_type": "code",
   "execution_count": 20,
   "id": "6b3eceef-8c20-4975-8cbd-218dacb4d9fc",
   "metadata": {},
   "outputs": [],
   "source": [
    "X = []\n",
    "y = []"
   ]
  },
  {
   "cell_type": "code",
   "execution_count": 21,
   "id": "79c01543-3640-4944-92df-e0c026dba811",
   "metadata": {},
   "outputs": [
    {
     "name": "stderr",
     "output_type": "stream",
     "text": [
      "100%|██████████| 7613/7613 [00:22<00:00, 340.19it/s]\n"
     ]
    }
   ],
   "source": [
    "for sentence,tag in tqdm(new_data):\n",
    "    bag = bag_of_words(sentence,all_words)\n",
    "    X.append(bag)\n",
    "    label = tags.index(tag)\n",
    "    y.append(label)"
   ]
  },
  {
   "cell_type": "code",
   "execution_count": 22,
   "id": "9454c333-e833-4037-bb39-7eb85f518ab7",
   "metadata": {},
   "outputs": [],
   "source": [
    "from sklearn.model_selection import *"
   ]
  },
  {
   "cell_type": "code",
   "execution_count": 23,
   "id": "70a48e31-4182-4e94-acbb-1774705196ea",
   "metadata": {},
   "outputs": [],
   "source": [
    "X_train,X_test,y_train,y_test = train_test_split(X,y,test_size=0.125)"
   ]
  },
  {
   "cell_type": "code",
   "execution_count": 25,
   "id": "c1f18cb2-0728-4e15-8c5d-4831683c1513",
   "metadata": {},
   "outputs": [],
   "source": [
    "device = 'cuda'"
   ]
  },
  {
   "cell_type": "code",
   "execution_count": 26,
   "id": "3c6764bb-14b9-434f-98c2-de273fe920a6",
   "metadata": {},
   "outputs": [],
   "source": [
    "X_train = torch.from_numpy(np.array(X_train)).to(device).float()\n",
    "X_test = torch.from_numpy(np.array(X_test)).to(device).float()\n",
    "y_train = torch.from_numpy(np.array(y_train)).to(device).float()\n",
    "y_test = torch.from_numpy(np.array(y_test)).to(device).float()"
   ]
  },
  {
   "cell_type": "code",
   "execution_count": null,
   "id": "2ad37c42-ae28-4d31-8f2b-3d8cc28a052d",
   "metadata": {},
   "outputs": [],
   "source": []
  }
 ],
 "metadata": {
  "kernelspec": {
   "display_name": "Python 3.7.3 64-bit ('base': conda)",
   "language": "python",
   "name": "python373jvsc74a57bd0210f9608a45c0278a93c9e0b10db32a427986ab48cfc0d20c139811eb78c4bbc"
  },
  "language_info": {
   "codemirror_mode": {
    "name": "ipython",
    "version": 3
   },
   "file_extension": ".py",
   "mimetype": "text/x-python",
   "name": "python",
   "nbconvert_exporter": "python",
   "pygments_lexer": "ipython3",
   "version": "3.7.7"
  }
 },
 "nbformat": 4,
 "nbformat_minor": 5
}
